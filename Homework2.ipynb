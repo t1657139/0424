{
 "cells": [
  {
   "cell_type": "code",
   "execution_count": 2,
   "metadata": {},
   "outputs": [
    {
     "name": "stdout",
     "output_type": "stream",
     "text": [
      "guess lucky numberk\n",
      "try again\n",
      "guess lucky numberq\n",
      "You've given it up\n"
     ]
    }
   ],
   "source": [
    "luckynumber ='8'\n",
    "while True:\n",
    "    number = input('guess lucky number')\n",
    "    if number == luckynumber:\n",
    "        print('Correct')\n",
    "        break\n",
    "    elif number == 'q':\n",
    "        print('You\\'ve given it up')\n",
    "        break\n",
    "    else:\n",
    "        print('try again')"
   ]
  },
  {
   "cell_type": "code",
   "execution_count": null,
   "metadata": {},
   "outputs": [],
   "source": []
  }
 ],
 "metadata": {
  "kernelspec": {
   "display_name": "Python 3",
   "language": "python",
   "name": "python3"
  },
  "language_info": {
   "codemirror_mode": {
    "name": "ipython",
    "version": 3
   },
   "file_extension": ".py",
   "mimetype": "text/x-python",
   "name": "python",
   "nbconvert_exporter": "python",
   "pygments_lexer": "ipython3",
   "version": "3.7.3"
  }
 },
 "nbformat": 4,
 "nbformat_minor": 2
}
